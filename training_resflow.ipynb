{
  "cells": [
    {
      "cell_type": "code",
      "execution_count": null,
      "metadata": {
        "id": "DSiNvTagrSCd"
      },
      "outputs": [],
      "source": [
        "!git clone https://github.com/harshraj172/residual_flows.git"
      ]
    },
    {
      "cell_type": "code",
      "execution_count": null,
      "metadata": {
        "id": "Yy2CMDs-Kp6m"
      },
      "outputs": [],
      "source": [
        "!pip install torch==1.8.1+cu111 torchvision==0.9.1+cu111 torchaudio==0.8.1 -f https://download.pytorch.org/whl/lts/1.8/torch_lts.html\n",
        "!pip install torchtext==0.9.1"
      ]
    },
    {
      "cell_type": "code",
      "execution_count": null,
      "metadata": {
        "id": "4slOW47_-9gi"
      },
      "outputs": [],
      "source": [
        "# importing sys\n",
        "import sys\n",
        "  \n",
        "# adding Folder_2 to the system path\n",
        "sys.path.insert(0, '/content/residual_flows')\n",
        "\n",
        "!python /content/residual_flows/train_img.py --eval_model True --resume /content/drive/MyDrive/ResidualFlows_experiments/mnist/models/most_recent.pth --data mnist --TrainLabel_MNIST 0 --TestLabel_MNIST 1 --imagesize 28 --actnorm True --wd 0 --save experiments/mnist --batchsize 16 --nepochs 1 --block coupling --task density --do_hierarch True"
      ]
    }
  ],
  "metadata": {
    "colab": {
      "name": "training_resflow.ipynb",
      "provenance": [],
      "collapsed_sections": []
    },
    "kernelspec": {
      "display_name": "Python 3",
      "name": "python3"
    },
    "language_info": {
      "name": "python"
    }
  },
  "nbformat": 4,
  "nbformat_minor": 0
}